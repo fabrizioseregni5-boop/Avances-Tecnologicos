{
 "cells": [
  {
   "cell_type": "markdown",
   "id": "5c8c7692",
   "metadata": {},
   "source": [
    "gkjsdgoihsdoighaoighaoigheóghaegoikehgiknjgkg"
   ]
  },
  {
   "cell_type": "code",
   "execution_count": 1,
   "id": "afc67a70",
   "metadata": {},
   "outputs": [
    {
     "name": "stdout",
     "output_type": "stream",
     "text": [
      "40\n"
     ]
    }
   ],
   "source": [
    "a = 25\n",
    "g = 15\n",
    "suma = a + g\n",
    "print (suma)"
   ]
  }
 ],
 "metadata": {
  "kernelspec": {
   "display_name": "Python 3",
   "language": "python",
   "name": "python3"
  },
  "language_info": {
   "codemirror_mode": {
    "name": "ipython",
    "version": 3
   },
   "file_extension": ".py",
   "mimetype": "text/x-python",
   "name": "python",
   "nbconvert_exporter": "python",
   "pygments_lexer": "ipython3",
   "version": "3.12.1"
  }
 },
 "nbformat": 4,
 "nbformat_minor": 5
}
